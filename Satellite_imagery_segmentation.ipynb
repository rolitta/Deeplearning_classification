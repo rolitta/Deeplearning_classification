{
  "nbformat": 4,
  "nbformat_minor": 0,
  "metadata": {
    "colab": {
      "provenance": [],
      "mount_file_id": "1Mj_9cnTr9_hLgvH9KVH9B7iQ1Tx0vV3q",
      "authorship_tag": "ABX9TyPJDdzGenyaVD3AzajQ0eVa",
      "include_colab_link": true
    },
    "kernelspec": {
      "name": "python3",
      "display_name": "Python 3"
    },
    "language_info": {
      "name": "python"
    }
  },
  "cells": [
    {
      "cell_type": "markdown",
      "metadata": {
        "id": "view-in-github",
        "colab_type": "text"
      },
      "source": [
        "<a href=\"https://colab.research.google.com/github/rolitta/Deeplearning_classification/blob/main/Satellite_imagery_segmentation.ipynb\" target=\"_parent\"><img src=\"https://colab.research.google.com/assets/colab-badge.svg\" alt=\"Open In Colab\"/></a>"
      ]
    },
    {
      "cell_type": "code",
      "execution_count": 1,
      "metadata": {
        "colab": {
          "base_uri": "https://localhost:8080/"
        },
        "id": "iIdCNWjklrSF",
        "outputId": "27ba8d12-0870-4d04-c37b-dd78c070619a"
      },
      "outputs": [
        {
          "output_type": "stream",
          "name": "stdout",
          "text": [
            "Collecting patchify\n",
            "  Downloading patchify-0.2.3-py3-none-any.whl (6.6 kB)\n",
            "Requirement already satisfied: numpy<2,>=1 in /usr/local/lib/python3.10/dist-packages (from patchify) (1.23.5)\n",
            "Installing collected packages: patchify\n",
            "Successfully installed patchify-0.2.3\n"
          ]
        }
      ],
      "source": [
        "!pip install patchify"
      ]
    },
    {
      "cell_type": "code",
      "source": [
        "import os\n",
        "import cv2\n",
        "from PIL import Image\n",
        "import numpy as np\n",
        "from patchify import patchify\n",
        "from sklearn.preprocessing import MinMaxScaler, StandardScaler\n",
        "\n",
        "from matplotlib import pyplot as plt\n",
        "import random"
      ],
      "metadata": {
        "id": "dcNJb6xaE6ey"
      },
      "execution_count": 10,
      "outputs": []
    },
    {
      "cell_type": "code",
      "source": [
        "minmaxscaler = MinMaxScaler()"
      ],
      "metadata": {
        "id": "E3BNHBv0PXGW"
      },
      "execution_count": 11,
      "outputs": []
    },
    {
      "cell_type": "code",
      "execution_count": 4,
      "metadata": {
        "colab": {
          "base_uri": "https://localhost:8080/"
        },
        "id": "TnbLRriLYOdR",
        "outputId": "fee7e43c-4230-4346-a02d-719889be545e"
      },
      "outputs": [
        {
          "output_type": "stream",
          "name": "stdout",
          "text": [
            "total 40K\n",
            "-rw------- 1 root root  548 May 29  2020  classes.json\n",
            "-rw------- 1 root root 6.1K May 31  2023  .DS_Store\n",
            "drwx------ 2 root root 4.0K May 31  2023 'Tile 1'\n",
            "drwx------ 2 root root 4.0K May 31  2023 'Tile 2'\n",
            "drwx------ 2 root root 4.0K May 31  2023 'Tile 3'\n",
            "drwx------ 2 root root 4.0K May 31  2023 'Tile 4'\n",
            "drwx------ 2 root root 4.0K May 31  2023 'Tile 5'\n",
            "drwx------ 2 root root 4.0K May 31  2023 'Tile 6'\n",
            "drwx------ 2 root root 4.0K May 31  2023 'Tile 7'\n",
            "drwx------ 2 root root 4.0K May 31  2023 'Tile 8'\n"
          ]
        }
      ],
      "source": [
        "!ls -lah '/content/drive/MyDrive/Colab Notebooks/satellite/Semantic segmentation dataset'"
      ]
    },
    {
      "cell_type": "code",
      "source": [
        "dataset_root_folder = '/content/drive/MyDrive/Colab Notebooks/satellite/'"
      ],
      "metadata": {
        "id": "Wulg4MUMl8C-"
      },
      "execution_count": 5,
      "outputs": []
    },
    {
      "cell_type": "code",
      "source": [
        "dataset_name = \"Semantic segmentation dataset\""
      ],
      "metadata": {
        "id": "-xu67qwWmQnd"
      },
      "execution_count": 6,
      "outputs": []
    },
    {
      "cell_type": "code",
      "source": [
        "from inspect import isgeneratorfunction\n",
        "for path, subdirs, files in os.walk(os.path.join(dataset_root_folder, dataset_name)):\n",
        "  dir_name = path.split(os.path.sep)[-1]\n",
        "  #print (dir_name)\n",
        "  if dir_name == 'images':\n",
        "    images = os.listdir(path)\n",
        "    for i,img_name in enumerate(images):\n",
        "      if (img_name.endswith ('.jpg')):\n",
        "        # print(img_name)\n",
        "        a = True\n"
      ],
      "metadata": {
        "id": "WqGgXMyTmg1c"
      },
      "execution_count": 7,
      "outputs": []
    },
    {
      "cell_type": "code",
      "source": [
        "image_dataset = []\n",
        "mask_dataset = []\n",
        "\n",
        "image_patch_size = 256\n",
        "\n",
        "for image_type in ['images', 'masks']:\n",
        "  if image_type == 'images':\n",
        "    image_extension = 'jpg'\n",
        "  elif image_type == 'masks':\n",
        "    image_extension = 'png'\n",
        "\n",
        "  for tile_id in range(1,8):\n",
        "    for image_id in range(1,20):\n",
        "      image = cv2.imread(f'{dataset_root_folder}/{dataset_name}/Tile {tile_id}/{image_type}/image_part_00{image_id}.{image_extension}',1)\n",
        "      if image is not None:\n",
        "        if image_type == 'masks':\n",
        "          image = cv2.cvtColor(image, cv2.COLOR_BGR2RGB)\n",
        "        # print(image.shape)\n",
        "        size_x = (image.shape[1]//image_patch_size)*image_patch_size\n",
        "        size_y = (image.shape[0]//image_patch_size)*image_patch_size\n",
        "        image = Image.fromarray(image)\n",
        "        image = image.crop((0,0, size_x, size_y))\n",
        "        # print(\"({}, {})\".format(image.size[0],image.size[1]))\n",
        "        image = np.array(image)\n",
        "        patched_images = patchify(image, (image_patch_size,  image_patch_size, 3), step = image_patch_size)\n",
        "        #print(len(patched_images))\n",
        "        #print(patched_images.shape)\n",
        "        for i in range(patched_images.shape[0]):\n",
        "            for j in range(patched_images.shape[1]):\n",
        "              if image_type == 'images':\n",
        "                individual_patched_image = patched_images[i,j,:,:]\n",
        "                #print(individual_patched_image.shape)\n",
        "                individual_patched_image = minmaxscaler.fit_transform(individual_patched_image.reshape(-1, individual_patched_image.shape[-1])).reshape(individual_patched_image.shape)\n",
        "                individual_patched_image = individual_patched_image[0]\n",
        "                #print(individual_patched_image.shape)\n",
        "                image_dataset.append(individual_patched_image)\n",
        "              elif image_type == 'masks':\n",
        "                individual_patched_mask = patched_images[i,j,:,:]\n",
        "                individual_patched_mask = individual_patched_mask[0]\n",
        "                mask_dataset.append(individual_patched_mask)\n"
      ],
      "metadata": {
        "id": "cZIDixIrHaMi"
      },
      "execution_count": 15,
      "outputs": []
    },
    {
      "cell_type": "code",
      "source": [],
      "metadata": {
        "id": "ewZiHEgiOlm7"
      },
      "execution_count": null,
      "outputs": []
    },
    {
      "cell_type": "code",
      "source": [],
      "metadata": {
        "id": "Anp-424fOlzB"
      },
      "execution_count": null,
      "outputs": []
    },
    {
      "cell_type": "code",
      "source": [],
      "metadata": {
        "id": "jCZniNKZOl25"
      },
      "execution_count": null,
      "outputs": []
    },
    {
      "cell_type": "code",
      "source": [],
      "metadata": {
        "id": "GPzH84uCOl7H"
      },
      "execution_count": null,
      "outputs": []
    }
  ]
}